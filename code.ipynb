{
 "cells": [
  {
   "cell_type": "code",
   "execution_count": 16,
   "metadata": {},
   "outputs": [],
   "source": [
    "import pandas as pd\n",
    "import numpy as np\n",
    "import matplotlib.pyplot as plt"
   ]
  },
  {
   "cell_type": "code",
   "execution_count": 6,
   "metadata": {},
   "outputs": [
    {
     "name": "stdout",
     "output_type": "stream",
     "text": [
      "<class 'pandas.core.frame.DataFrame'>\n",
      "RangeIndex: 613159 entries, 0 to 613158\n",
      "Data columns (total 12 columns):\n",
      " #   Column        Non-Null Count   Dtype  \n",
      "---  ------        --------------   -----  \n",
      " 0   status        613159 non-null  object \n",
      " 1   price         613159 non-null  float64\n",
      " 2   bed           507459 non-null  float64\n",
      " 3   bath          513691 non-null  float64\n",
      " 4   acre_lot      474193 non-null  float64\n",
      " 5   full_address  613159 non-null  object \n",
      " 6   street        612227 non-null  object \n",
      " 7   city          613095 non-null  object \n",
      " 8   state         613159 non-null  object \n",
      " 9   zip_code      612958 non-null  float64\n",
      " 10  house_size    440048 non-null  float64\n",
      " 11  sold_date     264934 non-null  object \n",
      "dtypes: float64(6), object(6)\n",
      "memory usage: 56.1+ MB\n"
     ]
    }
   ],
   "source": [
    "housing = pd.read_csv(\"realtor-data.csv\")\n",
    "housing.info()"
   ]
  },
  {
   "cell_type": "code",
   "execution_count": 21,
   "metadata": {},
   "outputs": [
    {
     "data": {
      "text/plain": [
       "122631"
      ]
     },
     "execution_count": 21,
     "metadata": {},
     "output_type": "execute_result"
    }
   ],
   "source": [
    "# Create Test Set\n",
    "\n",
    "def shuffle_split_data(data, test_ratio):\n",
    "    shuffled_indices = np.random.permutation(len(data))\n",
    "    test_set_size = int(len(data) * test_ratio)\n",
    "    test_indices = shuffled_indices[:test_set_size]\n",
    "    train_indices = shuffled_indices[test_set_size:]\n",
    "    return data.iloc[train_indices], data.iloc[test_indices]\n",
    "\n",
    "train_set, test_set = shuffle_split_data(housing, 0.2)\n",
    "len(test_set)"
   ]
  },
  {
   "cell_type": "code",
   "execution_count": null,
   "metadata": {},
   "outputs": [],
   "source": []
  }
 ],
 "metadata": {
  "kernelspec": {
   "display_name": "Python 3",
   "language": "python",
   "name": "python3"
  },
  "language_info": {
   "codemirror_mode": {
    "name": "ipython",
    "version": 3
   },
   "file_extension": ".py",
   "mimetype": "text/x-python",
   "name": "python",
   "nbconvert_exporter": "python",
   "pygments_lexer": "ipython3",
   "version": "3.10.8"
  },
  "orig_nbformat": 4,
  "vscode": {
   "interpreter": {
    "hash": "f38fe6fc302f88729192c17ebf1e8f8bd1b385d43ae62b6c5d96717ea4dd6968"
   }
  }
 },
 "nbformat": 4,
 "nbformat_minor": 2
}
